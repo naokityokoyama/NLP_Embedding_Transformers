{
  "cells": [
    {
      "cell_type": "markdown",
      "metadata": {
        "id": "view-in-github",
        "colab_type": "text"
      },
      "source": [
        "<a href=\"https://colab.research.google.com/github/naokityokoyama/NLP_Embedding_Transformers/blob/main/NLP_treinando_embedding_.ipynb\" target=\"_parent\"><img src=\"https://colab.research.google.com/assets/colab-badge.svg\" alt=\"Open In Colab\"/></a>"
      ]
    },
    {
      "cell_type": "markdown",
      "source": [
        "### import lib"
      ],
      "metadata": {
        "id": "IslNdgwl3y_G"
      }
    },
    {
      "cell_type": "code",
      "execution_count": null,
      "metadata": {
        "id": "hjPv_7EhFvrb"
      },
      "outputs": [],
      "source": [
        "import pandas as pd\n",
        "import numpy as np\n",
        "import requests\n",
        "from tqdm import tqdm\n",
        "\n",
        "from sklearn.model_selection import train_test_split\n",
        "from sklearn.metrics import confusion_matrix, accuracy_score\n",
        "from sklearn.preprocessing import LabelEncoder\n",
        "\n",
        "from keras.models import Sequential\n",
        "from keras.layers import Dense, Dropout, Flatten, Embedding, LSTM , GRU, Bidirectional\n",
        "from keras.preprocessing.text import Tokenizer\n",
        "from keras.preprocessing.sequence import pad_sequences\n",
        "from keras.utils import np_utils"
      ]
    },
    {
      "cell_type": "markdown",
      "metadata": {
        "id": "DXdrGMtkrfcu"
      },
      "source": [
        "### Coleta dos dados"
      ]
    },
    {
      "cell_type": "code",
      "execution_count": null,
      "metadata": {
        "id": "-dvz9f7WrhVm"
      },
      "outputs": [],
      "source": [
        "train = 'https://raw.githubusercontent.com/UniversalDependencies/UD_Portuguese-Bosque/master/pt_bosque-ud-train.conllu'\n",
        "dev = 'https://raw.githubusercontent.com/UniversalDependencies/UD_Portuguese-Bosque/master/pt_bosque-ud-dev.conllu'\n",
        "test = 'https://raw.githubusercontent.com/UniversalDependencies/UD_Portuguese-Bosque/master/pt_bosque-ud-test.conllu'"
      ]
    },
    {
      "cell_type": "code",
      "execution_count": null,
      "metadata": {
        "id": "Fwu9B8GU9dEs"
      },
      "outputs": [],
      "source": [
        "cbow = '/content/drive/MyDrive/Dataset/cbow_s50.txt'"
      ]
    },
    {
      "cell_type": "code",
      "execution_count": null,
      "metadata": {
        "id": "JK7ZuwZcrneG"
      },
      "outputs": [],
      "source": [
        "response = requests.get(dev)\n",
        "url = response.text"
      ]
    },
    {
      "cell_type": "code",
      "execution_count": null,
      "metadata": {
        "id": "dzJMq8wHrpkX"
      },
      "outputs": [],
      "source": [
        "class Coleta:\n",
        "  def __init__(self, url):\n",
        "    self.url = url\n",
        "    \n",
        "  def extrair(self, tamanho = len(url.split('\\n'))):\n",
        "    data_1 = []\n",
        "    data_2 = []\n",
        "    data_3 = []\n",
        "    for i in tqdm(range(tamanho)):  #35443\n",
        "      data1 = self.url.split('\\n')[i].split('\\t')\n",
        "      try:\n",
        "        if (data1[0][0])!= '#':\n",
        "          data_1.append(data1[0])\n",
        "          data_2.append(data1[2])\n",
        "          data_3.append(data1[3])\n",
        "      except:\n",
        "        pass    \n",
        "    return data_1, data_2, data_3\n",
        "\n",
        "  def dataframe(self,  tamanho=len(url.split('\\n'))):\n",
        "      \n",
        "    lista1 = self.extrair(tamanho=tamanho)[0]\n",
        "    lista2 = self.extrair(tamanho=tamanho)[1]\n",
        "    lista3 = self.extrair(tamanho=tamanho)[2]\n",
        "    df = pd.concat([pd.DataFrame(lista1), pd.DataFrame(lista2), pd.DataFrame(lista3)], axis=1)       \n",
        "    df.columns = ['id', 'token', 'POS_']\n",
        "    return df"
      ]
    },
    {
      "cell_type": "code",
      "execution_count": null,
      "metadata": {
        "id": "5KIw5hvssP-M"
      },
      "outputs": [],
      "source": [
        "dados = Coleta(url)\n",
        "df = dados.dataframe()"
      ]
    },
    {
      "cell_type": "code",
      "execution_count": null,
      "metadata": {
        "id": "B3_zyv_hF8Vi"
      },
      "outputs": [],
      "source": [
        "X = df['token'].values\n",
        "y = df['POS_'].values"
      ]
    },
    {
      "cell_type": "code",
      "execution_count": null,
      "metadata": {
        "id": "Beb311uyGEWH"
      },
      "outputs": [],
      "source": [
        "le = LabelEncoder()\n",
        "y = le.fit_transform(y)"
      ]
    },
    {
      "cell_type": "markdown",
      "source": [
        "### Tokenizer"
      ],
      "metadata": {
        "id": "TPCEWgMvn1S-"
      }
    },
    {
      "cell_type": "code",
      "execution_count": null,
      "metadata": {
        "id": "DJ9S9mVUGHfw"
      },
      "outputs": [],
      "source": [
        "token = Tokenizer() \n",
        "token.fit_on_texts(X)              \n",
        "X = token.texts_to_sequences(X)\n",
        "\n",
        "voc_size = len(token.word_index) + 1"
      ]
    },
    {
      "cell_type": "code",
      "execution_count": null,
      "metadata": {
        "id": "UGv0MviUGOVP"
      },
      "outputs": [],
      "source": [
        "y_dummy = np_utils.to_categorical(y.tolist())\n",
        "y = y_dummy"
      ]
    },
    {
      "cell_type": "markdown",
      "source": [
        "### Split train / test"
      ],
      "metadata": {
        "id": "yMcFX4ROn6pT"
      }
    },
    {
      "cell_type": "code",
      "execution_count": null,
      "metadata": {
        "id": "EjV6sjjyGSAI"
      },
      "outputs": [],
      "source": [
        "X_train, X_test, y_train , y_test = train_test_split(X,y, test_size=0.25)"
      ]
    },
    {
      "cell_type": "code",
      "execution_count": null,
      "metadata": {
        "colab": {
          "base_uri": "https://localhost:8080/"
        },
        "id": "51KjPIAhGTsR",
        "outputId": "d9fa8a39-50cd-4a83-e0e1-c9692a6cf5aa"
      },
      "outputs": [
        {
          "output_type": "execute_result",
          "data": {
            "text/plain": [
              "(22882, 22882)"
            ]
          },
          "metadata": {},
          "execution_count": 19
        }
      ],
      "source": [
        "len(X_train), len(y_train)"
      ]
    },
    {
      "cell_type": "code",
      "execution_count": null,
      "metadata": {
        "id": "7PV5YsvgGXET"
      },
      "outputs": [],
      "source": [
        "X_train = pad_sequences(X_train, padding=\"post\", maxlen=1)\n",
        "X_test = pad_sequences(X_test, padding=\"post\", maxlen=1)"
      ]
    },
    {
      "cell_type": "code",
      "execution_count": null,
      "metadata": {
        "colab": {
          "base_uri": "https://localhost:8080/"
        },
        "id": "oWl8oUSJG2yd",
        "outputId": "ff14d9e8-d77a-4e82-9fe3-09158ddf0044"
      },
      "outputs": [
        {
          "output_type": "stream",
          "name": "stdout",
          "text": [
            "[[ 2]\n",
            " [ 2]\n",
            " [ 1]\n",
            " ...\n",
            " [14]\n",
            " [19]\n",
            " [ 0]]\n"
          ]
        }
      ],
      "source": [
        "print (X_train)"
      ]
    },
    {
      "cell_type": "code",
      "execution_count": null,
      "metadata": {
        "colab": {
          "base_uri": "https://localhost:8080/"
        },
        "id": "ehaR0WgQHuiS",
        "outputId": "3096cf82-8b4a-479c-9d8c-cb7c6f810bf1"
      },
      "outputs": [
        {
          "output_type": "execute_result",
          "data": {
            "text/plain": [
              "((22882, 17), (22882, 1))"
            ]
          },
          "metadata": {},
          "execution_count": 22
        }
      ],
      "source": [
        "y_train.shape, X_train.shape"
      ]
    },
    {
      "cell_type": "code",
      "execution_count": null,
      "metadata": {
        "id": "3lxBQywcHemO"
      },
      "outputs": [],
      "source": [
        "print (len(token.word_index)+1)\n",
        "#tamanho do vocabulario no texto"
      ]
    },
    {
      "cell_type": "markdown",
      "source": [
        "### Train "
      ],
      "metadata": {
        "id": "EE89iijUoZ3v"
      }
    },
    {
      "cell_type": "code",
      "execution_count": null,
      "metadata": {
        "id": "KLnDlI6THY_d"
      },
      "outputs": [],
      "source": [
        "def neural(verbose=False, type_network=LSTM):\n",
        "  model = Sequential()\n",
        "  embedding = Embedding(input_dim=voc_size, output_dim=50, input_length = 1)\n",
        "  model.add(embedding)\n",
        "  model.add(type_network(units=10,  activation='relu')) \n",
        "  model.add(Dropout(0.1))\n",
        "  model.add(Dense(units=y_train.shape[1], activation='softmax'))\n",
        "  model.compile(loss='mean_squared_error', optimizer ='adam', metrics=['accuracy'] )\n",
        "  model.summary()\n",
        "  model.fit(X_train, y_train, epochs=10, batch_size=32, verbose=True, validation_data=(X_test, y_test))\n",
        "  return model"
      ]
    },
    {
      "cell_type": "code",
      "execution_count": null,
      "metadata": {
        "colab": {
          "base_uri": "https://localhost:8080/"
        },
        "id": "vmQpYY_EHjy3",
        "outputId": "453964f6-f2f9-4d39-f442-c81a53f93074"
      },
      "outputs": [
        {
          "output_type": "stream",
          "name": "stdout",
          "text": [
            "WARNING:tensorflow:Layer gru will not use cuDNN kernels since it doesn't meet the criteria. It will use a generic GPU kernel as fallback when running on GPU.\n",
            "Model: \"sequential_2\"\n",
            "_________________________________________________________________\n",
            " Layer (type)                Output Shape              Param #   \n",
            "=================================================================\n",
            " embedding_2 (Embedding)     (None, 1, 50)             259700    \n",
            "                                                                 \n",
            " gru (GRU)                   (None, 10)                1860      \n",
            "                                                                 \n",
            " dropout_2 (Dropout)         (None, 10)                0         \n",
            "                                                                 \n",
            " dense_2 (Dense)             (None, 17)                187       \n",
            "                                                                 \n",
            "=================================================================\n",
            "Total params: 261,747\n",
            "Trainable params: 261,747\n",
            "Non-trainable params: 0\n",
            "_________________________________________________________________\n",
            "Epoch 1/10\n",
            "716/716 [==============================] - 7s 8ms/step - loss: 0.0348 - accuracy: 0.5446 - val_loss: 0.0237 - val_accuracy: 0.6924\n",
            "Epoch 2/10\n",
            "716/716 [==============================] - 5s 7ms/step - loss: 0.0199 - accuracy: 0.7602 - val_loss: 0.0185 - val_accuracy: 0.7791\n",
            "Epoch 3/10\n",
            "716/716 [==============================] - 5s 8ms/step - loss: 0.0141 - accuracy: 0.8425 - val_loss: 0.0169 - val_accuracy: 0.7912\n",
            "Epoch 4/10\n",
            "716/716 [==============================] - 5s 7ms/step - loss: 0.0122 - accuracy: 0.8583 - val_loss: 0.0168 - val_accuracy: 0.7925\n",
            "Epoch 5/10\n",
            "716/716 [==============================] - 5s 7ms/step - loss: 0.0116 - accuracy: 0.8643 - val_loss: 0.0169 - val_accuracy: 0.7904\n",
            "Epoch 6/10\n",
            "716/716 [==============================] - 5s 7ms/step - loss: 0.0113 - accuracy: 0.8678 - val_loss: 0.0170 - val_accuracy: 0.7921\n",
            "Epoch 7/10\n",
            "716/716 [==============================] - 5s 7ms/step - loss: 0.0111 - accuracy: 0.8685 - val_loss: 0.0170 - val_accuracy: 0.7922\n",
            "Epoch 8/10\n",
            "716/716 [==============================] - 5s 7ms/step - loss: 0.0110 - accuracy: 0.8691 - val_loss: 0.0169 - val_accuracy: 0.7914\n",
            "Epoch 9/10\n",
            "716/716 [==============================] - 5s 7ms/step - loss: 0.0109 - accuracy: 0.8698 - val_loss: 0.0171 - val_accuracy: 0.7926\n",
            "Epoch 10/10\n",
            "716/716 [==============================] - 5s 7ms/step - loss: 0.0108 - accuracy: 0.8712 - val_loss: 0.0170 - val_accuracy: 0.7927\n"
          ]
        }
      ],
      "source": [
        "modelo = neural(type_network=GRU)"
      ]
    },
    {
      "cell_type": "markdown",
      "source": [
        "### Evaluate"
      ],
      "metadata": {
        "id": "kQaBgNsK38NY"
      }
    },
    {
      "cell_type": "code",
      "execution_count": null,
      "metadata": {
        "colab": {
          "base_uri": "https://localhost:8080/"
        },
        "id": "GC-BMQAW_T6i",
        "outputId": "066ff57e-9f79-4c42-87ba-646aad1f899e"
      },
      "outputs": [
        {
          "output_type": "stream",
          "name": "stdout",
          "text": [
            "239/239 [==============================] - 1s 2ms/step - loss: 0.0170 - accuracy: 0.7927\n"
          ]
        }
      ],
      "source": [
        "loss, accuracy = modelo.evaluate(X_test, y_test)"
      ]
    },
    {
      "cell_type": "code",
      "execution_count": null,
      "metadata": {
        "id": "ti9QL3FtfyRH",
        "colab": {
          "base_uri": "https://localhost:8080/"
        },
        "outputId": "d876dfd4-0dd8-4a7f-f8f0-cf4625d0eb97"
      },
      "outputs": [
        {
          "output_type": "stream",
          "name": "stdout",
          "text": [
            "239/239 [==============================] - 1s 2ms/step - loss: 0.0170 - accuracy: 0.7927\n",
            "0.01696545071899891 0.7927373051643372\n"
          ]
        }
      ],
      "source": [
        "loss, accuracy = modelo.evaluate(X_test, y_test)\n",
        "print (loss, accuracy)"
      ]
    },
    {
      "cell_type": "code",
      "execution_count": null,
      "metadata": {
        "id": "fBXwZtwxJriP"
      },
      "outputs": [],
      "source": [
        "y_pred = modelo.predict(X_test)"
      ]
    },
    {
      "cell_type": "code",
      "execution_count": null,
      "metadata": {
        "colab": {
          "base_uri": "https://localhost:8080/"
        },
        "id": "o9gtk3ryJ2At",
        "outputId": "16eb6ab7-a825-4707-aa0a-da9e66df253b"
      },
      "outputs": [
        {
          "output_type": "execute_result",
          "data": {
            "text/plain": [
              "7"
            ]
          },
          "metadata": {},
          "execution_count": 33
        }
      ],
      "source": [
        "np.argmax(y_pred[0])"
      ]
    },
    {
      "cell_type": "code",
      "execution_count": null,
      "metadata": {
        "colab": {
          "base_uri": "https://localhost:8080/"
        },
        "id": "D__DneVYf-Of",
        "outputId": "3e35c60e-1523-46cc-ecde-6b12e0053570"
      },
      "outputs": [
        {
          "output_type": "execute_result",
          "data": {
            "text/plain": [
              "array([[ 183,    2,    2,    0,    0,    3,    0,  118,    0,    0,   18,\n",
              "           0,    0,    0,    2,    0,    0],\n",
              "       [   0, 1026,    2,    0,    2,    0,    0,    3,    1,    1,    0,\n",
              "           0,    1,    0,    0,    0,    0],\n",
              "       [   2,    6,  204,    0,    1,    1,    0,   22,    0,    3,    1,\n",
              "           0,    0,    0,    0,    0,    0],\n",
              "       [   0,    0,    0,  153,    0,    0,    0,    0,    0,    0,    0,\n",
              "           0,    0,    0,   17,    0,    0],\n",
              "       [   0,    0,    1,    0,  158,    0,    0,    0,    0,    0,    0,\n",
              "           0,    0,    0,    0,    0,    0],\n",
              "       [   0,    0,    8,    0,    0, 1045,    0,    1,    1,    7,    0,\n",
              "           0,    0,    0,    0,    0,    0],\n",
              "       [   0,    0,    0,    0,    0,    0,    0,    0,    0,    1,    0,\n",
              "           0,    0,    0,    0,    0,    0],\n",
              "       [  28,    1,    5,    0,    0,    0,    0, 1262,    0,    0,   39,\n",
              "           0,    0,    0,    5,    0,    0],\n",
              "       [   0,    0,    0,    0,    0,   15,    0,   35,   92,    0,    0,\n",
              "           0,    0,    0,    0,    0,    0],\n",
              "       [   0,    0,    4,    0,    0,   28,    0,    1,    0,  222,    0,\n",
              "           0,    0,    0,    0,    0,    0],\n",
              "       [  12,    1,    0,    0,    0,    0,    0,  324,    1,    0,  269,\n",
              "           1,    0,    0,    0,    0,    0],\n",
              "       [   0,    0,    0,    0,    0,    0,    0,    0,    0,    0,    0,\n",
              "         941,    0,    0,    0,    0,    0],\n",
              "       [   0,  110,    6,    0,    0,    0,    0,    1,    0,   57,    0,\n",
              "           0,    6,    0,    0,    0,    0],\n",
              "       [   0,    0,    0,    0,    0,    0,    0,    0,    0,    0,    1,\n",
              "           2,    0,    3,    0,    0,    0],\n",
              "       [   1,    0,    0,   17,    0,    0,    0,  126,    0,    0,    2,\n",
              "           0,    0,    0,  483,    0,    0],\n",
              "       [   0,    0,    0,    0,    0,    0,    0,    6,    0,    0,    1,\n",
              "           0,    0,    0,    0,    0,    0],\n",
              "       [   0,    0,    0,    0,    0,    0,    0,    0,    0,    0,    0,\n",
              "         524,    0,    0,    0,    0,    0]])"
            ]
          },
          "metadata": {},
          "execution_count": 34
        }
      ],
      "source": [
        "confusion_matrix(y_test.argmax(axis=1), y_pred.argmax(axis=1))"
      ]
    }
  ],
  "metadata": {
    "accelerator": "GPU",
    "colab": {
      "name": "NLP_treinando_embedding .ipynb",
      "provenance": [],
      "collapsed_sections": [],
      "mount_file_id": "1O5tS3spfZx0KcJWowBO-672fCpTwoIlR",
      "authorship_tag": "ABX9TyNRm1Yd8Vt3v7k6UhFxFXps",
      "include_colab_link": true
    },
    "kernelspec": {
      "display_name": "Python 3",
      "name": "python3"
    },
    "language_info": {
      "name": "python"
    }
  },
  "nbformat": 4,
  "nbformat_minor": 0
}